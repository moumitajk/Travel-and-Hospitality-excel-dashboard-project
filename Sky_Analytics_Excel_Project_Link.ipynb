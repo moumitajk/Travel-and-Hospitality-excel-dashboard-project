{
  "nbformat": 4,
  "nbformat_minor": 0,
  "metadata": {
    "colab": {
      "provenance": []
    },
    "kernelspec": {
      "name": "python3",
      "display_name": "Python 3"
    },
    "language_info": {
      "name": "python"
    }
  },
  "cells": [
    {
      "cell_type": "markdown",
      "source": [
        "* Here is the Excel project file for my Travel and Hospitality Excel dashboard\n",
        "project.\n",
        "* The file is stored in Google Docs. It contains the project instructions and requirements.\n",
        "* The file also provides access to the dashboard that I have created for the project.\n",
        "* The dashboard contains a set of data visualizations and other information related to the project.\n",
        "\n",
        "* Project Link - https://docs.google.com/spreadsheets/d/1ir9zcDFk4GjllA0LwTxZg5-SDvu5J-y7/edit?usp=drive_link&ouid=106462450949831311719&rtpof=true&sd=true\n",
        "\n",
        "\n",
        "\n",
        "\n"
      ],
      "metadata": {
        "id": "6FYfOyIKfvt0"
      }
    }
  ]
}